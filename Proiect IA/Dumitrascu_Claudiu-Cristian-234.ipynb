{
 "cells": [
  {
   "cell_type": "code",
   "execution_count": 16,
   "metadata": {},
   "outputs": [],
   "source": [
    "import numpy as np # For numerical fast numerical calculations\n",
    "import matplotlib.pyplot as plt # For making plots\n",
    "import pandas as pd # Deals with data\n",
    "import seaborn as sb# Makes beautiful plots\n",
    "from sklearn import preprocessing # Testing sklearn\n",
    "import csv #csv files operation\n",
    "import copy #for saving new data\n",
    "import os # for reading from files \n",
    "import math # for mathematical functions "
   ]
  },
  {
   "cell_type": "code",
   "execution_count": 17,
   "metadata": {},
   "outputs": [],
   "source": [
    "\n",
    "# formula for magnitude for combining x,y,z into one point , condensing the data\n",
    "def magnitude(activity):\n",
    "    x2 = activity['x'] * activity['x']\n",
    "    y2 = activity['y'] * activity['y']\n",
    "    z2 = activity['z'] * activity['z']\n",
    "    m2 = x2 + y2 + z2\n",
    "    m = m2.apply(lambda x: math.sqrt(x))\n",
    "    return m\n",
    "    "
   ]
  },
  {
   "cell_type": "code",
   "execution_count": 18,
   "metadata": {
    "scrolled": true
   },
   "outputs": [],
   "source": [
    "from scipy.stats import skew, kurtosis\n",
    "from statsmodels.tsa import stattools\n",
    "\n",
    "def jitter(axis, start, end): #jitter is a signal formula for standard deviation \n",
    "    j = float(0)\n",
    "    for i in range(int(start), min(int(end), axis.count())):\n",
    "        if start != 0:\n",
    "            j += abs(axis[i] - axis[i-1])\n",
    "    return j / (int(end)-int(start))\n",
    "\n",
    "def mean_crossing_rate(axis, start, end):\n",
    "    cr = 0\n",
    "    m = axis.mean()\n",
    "    for i in range(int(start), min(int(end), axis.count())):\n",
    "        if start != 0:\n",
    "            p = axis[i-1] > m\n",
    "            c = axis[i] > m\n",
    "            if p != c:\n",
    "                cr += 1\n",
    "    return float(cr) / (end-start-1)\n",
    "\n",
    "def window_summary(axis, start, end):\n",
    "    acf = stattools.acf(axis[int(start):int(end)])\n",
    "    acv = stattools.acovf(axis[int(start):int(end)])\n",
    "    sqd_error = (axis[int(start):int(end)] - axis[int(start):int(end)].mean()) ** 2\n",
    "    return [\n",
    "        jitter(axis, start, end),     \n",
    "        mean_crossing_rate(axis, start, end),\n",
    "        axis[int(start):int(end)].mean(),\n",
    "        axis[int(start):int(end)].std(),\n",
    "        axis[int(start):int(end)].var(),\n",
    "        axis[int(start):int(end)].min(),\n",
    "        axis[int(start):int(end)].max(),\n",
    "        acf.mean(), # mean auto correlation\n",
    "        acf.std(), # standard deviation auto correlation\n",
    "        acv.mean(), # mean auto covariance\n",
    "        acv.std(), # standard deviation auto covariance\n",
    "        skew(axis[int(start):int(end)]),   #if standard deviation is positive skew is descending,negative ascending and mean is balanced\n",
    "        kurtosis(axis[int(start):int(end)]), # higher kurtosis is the result of infrequent extreme deviations, as opposed to frequent modestly sized deviations.\n",
    "        math.sqrt(sqd_error.mean())\n",
    "    ]\n",
    "\n",
    "def features(activity):\n",
    "    for (start, end) in windows(timestamp['timestamp']):\n",
    "        features = []\n",
    "        for axis in ['x', 'y', 'z', 'M']:\n",
    "            features += window_summary(activity[axis], start, end) # adding features to have the data more uniqueable distinctable\n",
    "        yield features"
   ]
  },
  {
   "cell_type": "code",
   "execution_count": 19,
   "metadata": {},
   "outputs": [],
   "source": [
    "import matplotlib\n",
    "def windows(df, size=100):\n",
    "    start = 0\n",
    "    while start < df.count():\n",
    "        yield start, start + size\n",
    "        start += (size / 2)\n",
    "#function for dividing in windows of data for a better distinction of data "
   ]
  },
  {
   "cell_type": "code",
   "execution_count": 13,
   "metadata": {},
   "outputs": [],
   "source": [
    "def plot_window(train_image):\n",
    "    fig, ax = plt.subplots(nrows=1, figsize=(15, 3))\n",
    "    plot_axis(ax, timestamp['timestamp'], train_image['M'], 'window')\n",
    "\n",
    "    for (start, end) in windows(timestamp['timestamp']):\n",
    "        ax.axvline(timestamp['timestamp'][start], color='r')\n",
    "        \n",
    "        # plotting function for windows"
   ]
  },
  {
   "cell_type": "code",
   "execution_count": null,
   "metadata": {},
   "outputs": [],
   "source": [
    "def plot_axis(ax, x, y, title):\n",
    "    ax.plot(x, y)\n",
    "    ax.set_title(title)\n",
    "    ax.xaxis.set_visible(False)\n",
    "    ax.set_ylim([min(y) - np.std(y), max(y) + np.std(y)])\n",
    "    ax.set_xlim([min(x), max(x)])\n",
    "    ax.grid(True)\n",
    "def plot_activity(activity):\n",
    "    fig, (ax0, ax1, ax2) = plt.subplots(nrows=3, figsize=(15, 10), sharex=True)\n",
    "    plot_axis(ax0, timestamp['timestamp'], activity['x'], 'x Axis')\n",
    "    plot_axis(ax1, timestamp['timestamp'], activity['y'], 'y Axis')\n",
    "    plot_axis(ax2, timestamp['timestamp'], activity['z'], 'z Axis')\n",
    "    plt.subplots_adjust(hspace=0.2)\n",
    "    plt.show()\n",
    "# displaying each x y z"
   ]
  },
  {
   "cell_type": "code",
   "execution_count": null,
   "metadata": {},
   "outputs": [],
   "source": [
    "def plot_magnitudes(activities):\n",
    "    plt.plot(timestamp['timestamp'], activities['M'])\n",
    "    plt.subplots_adjust(hspace=0.2)\n",
    "    plt.show()\n",
    "    #veryfing the magnitude with visualization "
   ]
  },
  {
   "cell_type": "code",
   "execution_count": 24,
   "metadata": {
    "scrolled": false
   },
   "outputs": [
    {
     "name": "stdout",
     "output_type": "stream",
     "text": [
      "(9000, 3, 56)\n",
      "(5000, 3, 56)\n"
     ]
    }
   ],
   "source": [
    "dataPath = \"/Users/ASDERTY/Documents/date IA/\"\n",
    "path = '/Users/ASDERTY/Documents/date IA/train/'\n",
    "pathTest = '/Users/ASDERTY/Documents/date IA/test/'\n",
    "\n",
    "testedFile = []\n",
    "train_images = []\n",
    "test_images = []\n",
    "\n",
    "COLUMNS = ['x', 'y', 'z'] # names for the columns for data clasyfing as x y z\n",
    "train_labels = np.array(pd.read_csv(\"/Users/ASDERTY/Documents/date IA/\"+ \"train_labels.csv\", header=None),dtype = 'uint8')\n",
    "timp = ['timestamp'] # nameing timestamp for the interval of time of roughly 2 second for accelerometer using at windows and data\n",
    "timestamp = pd.read_csv(\"/Users/ASDERTY/Desktop/pydata_2016-master/Data/\" +\"timp.csv\" ,header=None,names = timp) \n",
    "timestamp = timestamp[:136]\n",
    "\n",
    "for root,dirs,files in os.walk(path):\n",
    "    for x in files:\n",
    "        train_image = pd.read_csv(path + x, header=None,names = COLUMNS)\n",
    "        train_image['M'] = magnitude(train_image) # inputing a new column with magnitude \n",
    "        train_image = train_image [:136] # taking the lowest number for each file to keep the files veridicity\n",
    "        temp = []\n",
    "        for f in features(train_image):\n",
    "            temp.append(f)\n",
    "        temp = np.array(temp)\n",
    "        train_images.append(temp)\n",
    "        \n",
    "for root,dirs,files in os.walk(pathTest):\n",
    "    testedFiles = files\n",
    "    for x in files:\n",
    "        test_image = pd.read_csv(pathTest + x, header=None,names=COLUMNS)\n",
    "        test_image['M'] = magnitude(test_image)\n",
    "        test_image = test_image[:136]\n",
    "        temp = []\n",
    "        for f in features(test_image):\n",
    "            temp.append(f)\n",
    "        temp = np.array(temp)\n",
    "        test_images.append(temp)\n",
    "\n",
    "train_images = np.array(train_images)\n",
    "test_images = np.array(test_images)\n",
    "print(train_images.shape)\n",
    "print(test_images.shape)\n",
    "filesGood = []\n",
    "for x in testedFiles:\n",
    "    filesGood.append(x.replace('.csv',''))"
   ]
  },
  {
   "cell_type": "code",
   "execution_count": 40,
   "metadata": {},
   "outputs": [
    {
     "data": {
      "image/png": "[encoded data removed]",
      "text/plain": [
       "<Figure size 432x288 with 1 Axes>"
      ]
     },
     "metadata": {
      "needs_background": "light"
     },
     "output_type": "display_data"
    }
   ],
   "source": [
    "plt.plot(train_images[0][2],'r')\n",
    "plt.plot(train_images[1][2],'b')\n",
    "plt.show()"
   ]
  },
  {
   "cell_type": "code",
   "execution_count": 41,
   "metadata": {},
   "outputs": [],
   "source": [
    "def normalize_data(test_data,type):\n",
    "    if type == 'standard':\n",
    "        print(test_data.shape)\n",
    "        scaler = preprocessing.StandardScaler()       #methods of normalization of data\n",
    "        scaler.fit(test_data)\n",
    "        scaled_test_data = scaler.transform(test_data)\n",
    "      #methods of normalization of data\n",
    "        scaler.fit(test_data)\n",
    "        scaled_test_data = scaler.transform(test_data)\n",
    "    elif type == 'min_max':\n",
    "        scaler = preprocessing.MinMaxScaler(feature_range=(-5,5))\n",
    "        scaler.fit(test_data)\n",
    "        scaled_test_data = scaler.transform(test_data)\n",
    "    elif type == \"l1\":\n",
    "        scaled_test_data = test_data/np.expand_dims(np.sum(abs(test_data),axis = 0),axis = 0)\n",
    "    elif type == \"l2\":\n",
    "        scaled_test_data = test_data/np.expand_dims(np.sqrt(np.sum(test_data**2,axis = 0)), axis = 0 )\n",
    "    return scaled_test_data"
   ]
  },
  {
   "cell_type": "code",
   "execution_count": 49,
   "metadata": {},
   "outputs": [
    {
     "name": "stdout",
     "output_type": "stream",
     "text": [
      "<class 'numpy.ndarray'>\n",
      "(9000, 168)\n",
      "(9000, 168)\n",
      "(5000, 168)\n"
     ]
    },
    {
     "data": {
      "image/png": "[encoded data removed]",
      "text/plain": [
       "<Figure size 432x288 with 1 Axes>"
      ]
     },
     "metadata": {
      "needs_background": "light"
     },
     "output_type": "display_data"
    },
    {
     "data": {
      "image/png": "[encoded data removed]",
      "text/plain": [
       "<Figure size 432x288 with 1 Axes>"
      ]
     },
     "metadata": {
      "needs_background": "light"
     },
     "output_type": "display_data"
    },
    {
     "name": "stdout",
     "output_type": "stream",
     "text": [
      "(9000, 168)\n",
      "(9000, 168)\n",
      "(5000, 168)\n"
     ]
    },
    {
     "data": {
      "image/png": "[encoded data removed]",
      "text/plain": [
       "<Figure size 432x288 with 1 Axes>"
      ]
     },
     "metadata": {
      "needs_background": "light"
     },
     "output_type": "display_data"
    }
   ],
   "source": [
    "scaled_data = copy.deepcopy(train_images)\n",
    "scaled_test = copy.deepcopy(test_images) #making a deep copy to have it unique to normalize\n",
    "x = []\n",
    "for z in range(0,scaled_data.shape[0]):\n",
    "    x.append(scaled_data[z].flatten())\n",
    "scaled_data = np.array(x)\n",
    "x = []                                    #flattening the data to be able to scale it for faster speeds\n",
    "for z in range(0,scaled_test.shape[0]):\n",
    "    x.append(scaled_test[z].flatten())\n",
    "scaled_test = np.array(x)\n",
    "print(scaled_data.shape)\n",
    "scaled_data = normalize_data(scaled_data,'standard')           \n",
    "scaled_test = normalize_data(scaled_test,'standard')\n",
    "print(scaled_data.shape)\n",
    "print(scaled_test.shape)\n",
    "plt.plot(scaled_test)\n",
    "plt.show()"
   ]
  },
  {
   "cell_type": "code",
   "execution_count": 51,
   "metadata": {
    "scrolled": true
   },
   "outputs": [
    {
     "name": "stderr",
     "output_type": "stream",
     "text": [
      "C:\\Users\\ASDERTY\\AppData\\Roaming\\Python\\Python37\\site-packages\\ipykernel_launcher.py:3: DataConversionWarning: A column-vector y was passed when a 1d array was expected. Please change the shape of y to (n_samples,), for example using ravel().\n",
      "  This is separate from the ipykernel package so we can avoid doing imports until\n"
     ]
    },
    {
     "name": "stdout",
     "output_type": "stream",
     "text": [
      "0.0\n",
      "0.0\n",
      "0.011638476473563262\n",
      "0.005497656768553401\n",
      "0.0048813006637555235\n",
      "0.008940827959828927\n",
      "0.012458485128827352\n",
      "0.0028375210628611668\n",
      "0.0031270295515601247\n",
      "0.004300992826324761\n",
      "0.0037848109059438976\n",
      "0.0019782915726649607\n",
      "0.0019894415972333355\n",
      "0.005170679371418523\n",
      "0.0\n",
      "0.0\n",
      "0.01790463970848284\n",
      "0.0062693457369006\n",
      "0.004913908850002181\n",
      "0.013287345565655534\n",
      "0.0176492657906368\n",
      "0.003103563247416765\n",
      "0.005010505015492588\n",
      "0.0052091887014012895\n",
      "0.004345724770484611\n",
      "0.002926431728827612\n",
      "0.0031147213611282133\n",
      "0.006348792290275177\n",
      "0.0\n",
      "0.0\n",
      "0.026757502102327402\n",
      "0.006576917614481774\n",
      "0.005554885013320161\n",
      "0.010887848263969014\n",
      "0.010769633828361174\n",
      "0.0028235085395297878\n",
      "0.0054083930165773385\n",
      "0.006119918519234414\n",
      "0.004578476256201325\n",
      "0.003247239264174164\n",
      "0.0044044463308694735\n",
      "0.006068927676074841\n",
      "0.0\n",
      "0.0\n",
      "0.04817138277581503\n",
      "0.009784029407667132\n",
      "0.007412862476019118\n",
      "0.012286112746589082\n",
      "0.014374168182745702\n",
      "0.0032454189964800516\n",
      "0.006988362613136266\n",
      "0.007517137011258858\n",
      "0.008607796306438091\n",
      "0.0038268057088165826\n",
      "0.004914829937781632\n",
      "0.0070605624814906376\n",
      "0.00974335137208643\n",
      "0.00329322507047489\n",
      "0.011305189291772972\n",
      "0.0039013029048172716\n",
      "0.0038819255881083646\n",
      "0.008331983053793467\n",
      "0.010914737073917886\n",
      "0.002390071731068043\n",
      "0.0033849168866973817\n",
      "0.0040086062094437415\n",
      "0.0030100421820953784\n",
      "0.002129816058189894\n",
      "0.0018153369848899349\n",
      "0.004308700253893916\n",
      "0.008264652701109973\n",
      "0.003214688432192373\n",
      "0.01871991424348181\n",
      "0.006211666011097434\n",
      "0.004675075181855736\n",
      "0.013493706279223382\n",
      "0.012868033566155386\n",
      "0.002483413260557478\n",
      "0.004346266503900299\n",
      "0.0049939721068057545\n",
      "0.003914316505674218\n",
      "0.002745915192505122\n",
      "0.002705635977421329\n",
      "0.00591582814675096\n",
      "0.007480954118056743\n",
      "0.0041305143100383995\n",
      "0.025264499047976417\n",
      "0.0044847610280303995\n",
      "0.004057370863298748\n",
      "0.007828305563445425\n",
      "0.009583048155962434\n",
      "0.002329632932132621\n",
      "0.004185979519117512\n",
      "0.004086954507712312\n",
      "0.004125248745980168\n",
      "0.002942176863545559\n",
      "0.003169645965963926\n",
      "0.004704791012358191\n",
      "0.008726696008523726\n",
      "0.005323177785202665\n",
      "0.050897859567736986\n",
      "0.006489724738386291\n",
      "0.005468299140311716\n",
      "0.011151017039683958\n",
      "0.011566938115259183\n",
      "0.002720746918167503\n",
      "0.00559224525376879\n",
      "0.006612956188155319\n",
      "0.006614620511235367\n",
      "0.0033510194421193873\n",
      "0.0036758896200474126\n",
      "0.008136824807008317\n",
      "0.00521484871509999\n",
      "0.0022166735784215795\n",
      "0.006796703887123973\n",
      "0.0026381558936790345\n",
      "0.0025535248213714957\n",
      "0.006471451659015585\n",
      "0.0077303799252713455\n",
      "0.001135685697623653\n",
      "0.002624347715481098\n",
      "0.002442547450150698\n",
      "0.0026226451385614057\n",
      "0.0016884199023194828\n",
      "0.0016355038802687264\n",
      "0.00267447236075769\n",
      "0.004142160973778309\n",
      "0.0022189991438710736\n",
      "0.011227923241986308\n",
      "0.002631859006697276\n",
      "0.002526043868191516\n",
      "0.009878969218486258\n",
      "0.01086445336153497\n",
      "0.0011529218105557075\n",
      "0.0019576678204803197\n",
      "0.002583546050674708\n",
      "0.002196368701332814\n",
      "0.0016543017082188483\n",
      "0.0015642002876206792\n",
      "0.0026741082781696064\n",
      "0.0032948901359185047\n",
      "0.002583029215569846\n",
      "0.015564516138603572\n",
      "0.0023198653264866194\n",
      "0.0023006794577846578\n",
      "0.005592050626094488\n",
      "0.00800695661639058\n",
      "0.0010966608374933973\n",
      "0.0023720216193382666\n",
      "0.0022101672856684436\n",
      "0.0021850680813188983\n",
      "0.0018155838088978096\n",
      "0.0019337215657260509\n",
      "0.0023544717650486836\n",
      "0.003866978502712234\n",
      "0.0025985137189619674\n",
      "0.021094839220110004\n",
      "0.00274899911245376\n",
      "0.002522216630458386\n",
      "0.008737668068188228\n",
      "0.008624595495889776\n",
      "0.001180614181657568\n",
      "0.002248876592546648\n",
      "0.002338858466808721\n",
      "0.002398290196020689\n",
      "0.0018296170233964898\n",
      "0.001959891347202218\n",
      "0.002751176608704607\n"
     ]
    }
   ],
   "source": [
    "from sklearn.ensemble import ExtraTreesClassifier\n",
    "model = ExtraTreesClassifier(n_estimators=100) # making esimations for feature importance to see what is needed \n",
    "model.fit(scaled_data,train_labels[:,[1]])\n",
    "for x in range(168):\n",
    "    print(str(model.feature_importances_[x]))"
   ]
  },
  {
   "cell_type": "code",
   "execution_count": 72,
   "metadata": {},
   "outputs": [
    {
     "name": "stdout",
     "output_type": "stream",
     "text": [
      "_________________________________________________________________\n",
      "Layer (type)                 Output Shape              Param #   \n",
      "=================================================================\n",
      "dense_23 (Dense)             (None, 140)               23660     \n",
      "_________________________________________________________________\n",
      "dense_24 (Dense)             (None, 180)               25380     \n",
      "_________________________________________________________________\n",
      "dropout_6 (Dropout)          (None, 180)               0         \n",
      "_________________________________________________________________\n",
      "dense_25 (Dense)             (None, 180)               32580     \n",
      "_________________________________________________________________\n",
      "dense_26 (Dense)             (None, 21)                3801      \n",
      "=================================================================\n",
      "Total params: 85,421\n",
      "Trainable params: 85,421\n",
      "Non-trainable params: 0\n",
      "_________________________________________________________________\n"
     ]
    }
   ],
   "source": [
    "from time import time\n",
    "\n",
    "from keras.callbacks import TensorBoard\n",
    "from keras import losses\n",
    "from keras.regularizers import l1\n",
    "from keras.layers import BatchNormalization\n",
    "from keras.layers import Dropout\n",
    "from keras.layers import Flatten\n",
    "\n",
    "from keras.models import Sequential\n",
    "from keras.layers import Activation\n",
    "from keras.layers.core import Dense\n",
    "from keras.layers import Input\n",
    "from keras import optimizers\n",
    "from keras.callbacks import TensorBoard #for tf board \n",
    "import keras # Imports keras\n",
    "\n",
    "import tensorflow\n",
    "\n",
    "model = Sequential ([\n",
    "    Dense(140,input_shape=(168,)),\n",
    "    Dense(180,activation = tensorflow.nn.relu), # my approach for the NN with a good number of perceptrons\n",
    "    Dropout(0.2),\n",
    "    Dense(180,activation = tensorflow.nn.relu),\n",
    "    Dense(21, activation = 'softmax')\n",
    "])\n",
    "model.compile(optimizers.Nadam(0.001),loss=losses.poisson,metrics = ['accuracy'])\n",
    "tensorboard = TensorBoard(log_dir=\"logs/{}\".format(time()))\n",
    "\n",
    "model.summary()"
   ]
  },
  {
   "cell_type": "code",
   "execution_count": 74,
   "metadata": {
    "scrolled": true
   },
   "outputs": [
    {
     "name": "stdout",
     "output_type": "stream",
     "text": [
      "Train on 7200 samples, validate on 1800 samples\n",
      "Epoch 1/85\n",
      "7200/7200 [==============================] - 2s 233us/step - loss: 0.0927 - acc: 0.7225 - val_loss: 0.0673 - val_acc: 0.8706\n",
      "Epoch 2/85\n",
      "7200/7200 [==============================] - 1s 119us/step - loss: 0.0632 - acc: 0.8897 - val_loss: 0.0610 - val_acc: 0.9133\n",
      "Epoch 3/85\n",
      "7200/7200 [==============================] - 1s 126us/step - loss: 0.0588 - acc: 0.9201 - val_loss: 0.0588 - val_acc: 0.9233\n",
      "Epoch 4/85\n",
      "7200/7200 [==============================] - 1s 118us/step - loss: 0.0566 - acc: 0.9362 - val_loss: 0.0580 - val_acc: 0.9289\n",
      "Epoch 5/85\n",
      "7200/7200 [==============================] - 1s 119us/step - loss: 0.0550 - acc: 0.9453 - val_loss: 0.0568 - val_acc: 0.9350\n",
      "Epoch 6/85\n",
      "7200/7200 [==============================] - 1s 108us/step - loss: 0.0539 - acc: 0.9540 - val_loss: 0.0565 - val_acc: 0.9411\n",
      "Epoch 7/85\n",
      "7200/7200 [==============================] - 1s 112us/step - loss: 0.0528 - acc: 0.9626 - val_loss: 0.0558 - val_acc: 0.9483\n",
      "Epoch 8/85\n",
      "7200/7200 [==============================] - 1s 112us/step - loss: 0.0525 - acc: 0.9639 - val_loss: 0.0559 - val_acc: 0.9422\n",
      "Epoch 9/85\n",
      "7200/7200 [==============================] - 1s 108us/step - loss: 0.0523 - acc: 0.9669 - val_loss: 0.0554 - val_acc: 0.9450\n",
      "Epoch 10/85\n",
      "7200/7200 [==============================] - 1s 112us/step - loss: 0.0517 - acc: 0.9693 - val_loss: 0.0565 - val_acc: 0.9400\n",
      "Epoch 11/85\n",
      "7200/7200 [==============================] - 1s 123us/step - loss: 0.0514 - acc: 0.9728 - val_loss: 0.0576 - val_acc: 0.9433\n",
      "Epoch 12/85\n",
      "7200/7200 [==============================] - 1s 155us/step - loss: 0.0512 - acc: 0.9747 - val_loss: 0.0564 - val_acc: 0.9467\n",
      "Epoch 13/85\n",
      "7200/7200 [==============================] - 1s 154us/step - loss: 0.0507 - acc: 0.9772 - val_loss: 0.0556 - val_acc: 0.9517\n",
      "Epoch 14/85\n",
      "7200/7200 [==============================] - 1s 145us/step - loss: 0.0507 - acc: 0.9771 - val_loss: 0.0563 - val_acc: 0.9472\n",
      "Epoch 15/85\n",
      "7200/7200 [==============================] - 1s 141us/step - loss: 0.0505 - acc: 0.9803 - val_loss: 0.0570 - val_acc: 0.9433\n",
      "Epoch 16/85\n",
      "7200/7200 [==============================] - 1s 122us/step - loss: 0.0500 - acc: 0.9828 - val_loss: 0.0571 - val_acc: 0.9517\n",
      "Epoch 17/85\n",
      "7200/7200 [==============================] - 1s 116us/step - loss: 0.0503 - acc: 0.9803 - val_loss: 0.0561 - val_acc: 0.9517\n",
      "Epoch 18/85\n",
      "7200/7200 [==============================] - 1s 116us/step - loss: 0.0504 - acc: 0.9801 - val_loss: 0.0569 - val_acc: 0.9467\n",
      "Epoch 19/85\n",
      "7200/7200 [==============================] - 1s 118us/step - loss: 0.0499 - acc: 0.9826 - val_loss: 0.0563 - val_acc: 0.9472\n",
      "Epoch 20/85\n",
      "7200/7200 [==============================] - 1s 119us/step - loss: 0.0499 - acc: 0.9831 - val_loss: 0.0555 - val_acc: 0.9567\n",
      "Epoch 21/85\n",
      "7200/7200 [==============================] - 1s 125us/step - loss: 0.0499 - acc: 0.9839 - val_loss: 0.0563 - val_acc: 0.9544\n",
      "Epoch 22/85\n",
      "7200/7200 [==============================] - 1s 126us/step - loss: 0.0497 - acc: 0.9846 - val_loss: 0.0569 - val_acc: 0.9522\n",
      "Epoch 23/85\n",
      "7200/7200 [==============================] - 1s 134us/step - loss: 0.0494 - acc: 0.9881 - val_loss: 0.0567 - val_acc: 0.9489\n",
      "Epoch 24/85\n",
      "7200/7200 [==============================] - 1s 126us/step - loss: 0.0499 - acc: 0.9835 - val_loss: 0.0564 - val_acc: 0.9567\n",
      "Epoch 25/85\n",
      "7200/7200 [==============================] - 1s 138us/step - loss: 0.0494 - acc: 0.9865 - val_loss: 0.0568 - val_acc: 0.9561\n",
      "Epoch 26/85\n",
      "7200/7200 [==============================] - 1s 124us/step - loss: 0.0490 - acc: 0.9901 - val_loss: 0.0577 - val_acc: 0.9489\n",
      "Epoch 27/85\n",
      "7200/7200 [==============================] - 1s 118us/step - loss: 0.0491 - acc: 0.9881 - val_loss: 0.0566 - val_acc: 0.9578\n",
      "Epoch 28/85\n",
      "7200/7200 [==============================] - 1s 110us/step - loss: 0.0491 - acc: 0.9896 - val_loss: 0.0579 - val_acc: 0.9500\n",
      "Epoch 29/85\n",
      "7200/7200 [==============================] - 1s 118us/step - loss: 0.0495 - acc: 0.9856 - val_loss: 0.0587 - val_acc: 0.9472\n",
      "Epoch 30/85\n",
      "7200/7200 [==============================] - 1s 117us/step - loss: 0.0489 - acc: 0.9912 - val_loss: 0.0570 - val_acc: 0.9567\n",
      "Epoch 31/85\n",
      "7200/7200 [==============================] - 1s 119us/step - loss: 0.0493 - acc: 0.9886 - val_loss: 0.0568 - val_acc: 0.9583\n",
      "Epoch 32/85\n",
      "7200/7200 [==============================] - 1s 118us/step - loss: 0.0490 - acc: 0.9901 - val_loss: 0.0560 - val_acc: 0.9578\n",
      "Epoch 33/85\n",
      "7200/7200 [==============================] - 1s 115us/step - loss: 0.0489 - acc: 0.9915 - val_loss: 0.0594 - val_acc: 0.9506\n",
      "Epoch 34/85\n",
      "7200/7200 [==============================] - 1s 122us/step - loss: 0.0500 - acc: 0.9840 - val_loss: 0.0573 - val_acc: 0.9500\n",
      "Epoch 35/85\n",
      "7200/7200 [==============================] - 1s 133us/step - loss: 0.0506 - acc: 0.9786 - val_loss: 0.0568 - val_acc: 0.9556\n",
      "Epoch 36/85\n",
      "7200/7200 [==============================] - 1s 122us/step - loss: 0.0497 - acc: 0.9860 - val_loss: 0.0570 - val_acc: 0.9539\n",
      "Epoch 37/85\n",
      "7200/7200 [==============================] - 1s 133us/step - loss: 0.0494 - acc: 0.9885 - val_loss: 0.0569 - val_acc: 0.9556\n",
      "Epoch 38/85\n",
      "7200/7200 [==============================] - 1s 127us/step - loss: 0.0494 - acc: 0.9869 - val_loss: 0.0573 - val_acc: 0.9539\n",
      "Epoch 39/85\n",
      "7200/7200 [==============================] - 1s 121us/step - loss: 0.0489 - acc: 0.9912 - val_loss: 0.0574 - val_acc: 0.9567\n",
      "Epoch 40/85\n",
      "7200/7200 [==============================] - 1s 118us/step - loss: 0.0489 - acc: 0.9906 - val_loss: 0.0574 - val_acc: 0.9606\n",
      "Epoch 41/85\n",
      "7200/7200 [==============================] - ETA: 0s - loss: 0.0490 - acc: 0.989 - 1s 118us/step - loss: 0.0490 - acc: 0.9892 - val_loss: 0.0578 - val_acc: 0.9544\n",
      "Epoch 42/85\n",
      "7200/7200 [==============================] - ETA: 0s - loss: 0.0488 - acc: 0.991 - 1s 123us/step - loss: 0.0489 - acc: 0.9910 - val_loss: 0.0578 - val_acc: 0.9544\n",
      "Epoch 43/85\n",
      "7200/7200 [==============================] - 1s 117us/step - loss: 0.0488 - acc: 0.9911 - val_loss: 0.0582 - val_acc: 0.9550\n",
      "Epoch 44/85\n",
      "7200/7200 [==============================] - 1s 124us/step - loss: 0.0489 - acc: 0.9911 - val_loss: 0.0587 - val_acc: 0.9561\n",
      "Epoch 45/85\n",
      "7200/7200 [==============================] - 1s 126us/step - loss: 0.0493 - acc: 0.9883 - val_loss: 0.0575 - val_acc: 0.9528\n",
      "Epoch 46/85\n",
      "7200/7200 [==============================] - 1s 117us/step - loss: 0.0493 - acc: 0.9889 - val_loss: 0.0587 - val_acc: 0.9539\n",
      "Epoch 47/85\n",
      "7200/7200 [==============================] - 1s 126us/step - loss: 0.0491 - acc: 0.9900 - val_loss: 0.0576 - val_acc: 0.9589\n",
      "Epoch 48/85\n",
      "7200/7200 [==============================] - 1s 118us/step - loss: 0.0488 - acc: 0.9901 - val_loss: 0.0568 - val_acc: 0.9622\n",
      "Epoch 49/85\n",
      "7200/7200 [==============================] - 1s 119us/step - loss: 0.0488 - acc: 0.9910 - val_loss: 0.0577 - val_acc: 0.9494\n",
      "Epoch 50/85\n",
      "7200/7200 [==============================] - 1s 135us/step - loss: 0.0492 - acc: 0.9889 - val_loss: 0.0593 - val_acc: 0.9500\n",
      "Epoch 51/85\n",
      "7200/7200 [==============================] - 1s 143us/step - loss: 0.0491 - acc: 0.9900 - val_loss: 0.0575 - val_acc: 0.9589\n",
      "Epoch 52/85\n",
      "7200/7200 [==============================] - 1s 127us/step - loss: 0.0488 - acc: 0.9922 - val_loss: 0.0593 - val_acc: 0.9561\n",
      "Epoch 53/85\n",
      "7200/7200 [==============================] - 1s 133us/step - loss: 0.0486 - acc: 0.9926 - val_loss: 0.0594 - val_acc: 0.9533\n",
      "Epoch 54/85\n",
      "7200/7200 [==============================] - 1s 125us/step - loss: 0.0490 - acc: 0.9904 - val_loss: 0.0585 - val_acc: 0.9539\n",
      "Epoch 55/85\n",
      "7200/7200 [==============================] - 1s 121us/step - loss: 0.0491 - acc: 0.9903 - val_loss: 0.0585 - val_acc: 0.9544\n",
      "Epoch 56/85\n",
      "7200/7200 [==============================] - 1s 117us/step - loss: 0.0485 - acc: 0.9946 - val_loss: 0.0586 - val_acc: 0.9567\n",
      "Epoch 57/85\n",
      "7200/7200 [==============================] - 1s 122us/step - loss: 0.0487 - acc: 0.9919 - val_loss: 0.0577 - val_acc: 0.9583\n",
      "Epoch 58/85\n",
      "7200/7200 [==============================] - 1s 136us/step - loss: 0.0487 - acc: 0.9931 - val_loss: 0.0608 - val_acc: 0.9522\n",
      "Epoch 59/85\n",
      "7200/7200 [==============================] - 1s 122us/step - loss: 0.0489 - acc: 0.9910 - val_loss: 0.0593 - val_acc: 0.9522\n"
     ]
    },
    {
     "name": "stdout",
     "output_type": "stream",
     "text": [
      "Epoch 60/85\n",
      "7200/7200 [==============================] - 1s 116us/step - loss: 0.0489 - acc: 0.9903 - val_loss: 0.0609 - val_acc: 0.9461\n",
      "Epoch 61/85\n",
      "7200/7200 [==============================] - 1s 124us/step - loss: 0.0491 - acc: 0.9900 - val_loss: 0.0621 - val_acc: 0.9444\n",
      "Epoch 62/85\n",
      "7200/7200 [==============================] - 1s 118us/step - loss: 0.0498 - acc: 0.9879 - val_loss: 0.0613 - val_acc: 0.9533\n",
      "Epoch 63/85\n",
      "7200/7200 [==============================] - 1s 109us/step - loss: 0.0494 - acc: 0.9910 - val_loss: 0.0598 - val_acc: 0.9561\n",
      "Epoch 64/85\n",
      "7200/7200 [==============================] - 1s 109us/step - loss: 0.0489 - acc: 0.9921 - val_loss: 0.0605 - val_acc: 0.9506\n",
      "Epoch 65/85\n",
      "7200/7200 [==============================] - 1s 109us/step - loss: 0.0492 - acc: 0.9906 - val_loss: 0.0591 - val_acc: 0.9539\n",
      "Epoch 66/85\n",
      "7200/7200 [==============================] - 1s 111us/step - loss: 0.0487 - acc: 0.9932 - val_loss: 0.0582 - val_acc: 0.9628\n",
      "Epoch 67/85\n",
      "7200/7200 [==============================] - 1s 104us/step - loss: 0.0486 - acc: 0.9926 - val_loss: 0.0602 - val_acc: 0.9539\n",
      "Epoch 68/85\n",
      "7200/7200 [==============================] - 1s 111us/step - loss: 0.0484 - acc: 0.9953 - val_loss: 0.0588 - val_acc: 0.9628\n",
      "Epoch 69/85\n",
      "7200/7200 [==============================] - 1s 110us/step - loss: 0.0488 - acc: 0.9932 - val_loss: 0.0586 - val_acc: 0.9600\n",
      "Epoch 70/85\n",
      "7200/7200 [==============================] - 1s 111us/step - loss: 0.0491 - acc: 0.9906 - val_loss: 0.0585 - val_acc: 0.9594\n",
      "Epoch 71/85\n",
      "7200/7200 [==============================] - 1s 110us/step - loss: 0.0490 - acc: 0.9921 - val_loss: 0.0601 - val_acc: 0.9572\n",
      "Epoch 72/85\n",
      "7200/7200 [==============================] - 1s 123us/step - loss: 0.0485 - acc: 0.9936 - val_loss: 0.0586 - val_acc: 0.9606\n",
      "Epoch 73/85\n",
      "7200/7200 [==============================] - 1s 110us/step - loss: 0.0490 - acc: 0.9919 - val_loss: 0.0597 - val_acc: 0.9539\n",
      "Epoch 74/85\n",
      "7200/7200 [==============================] - 1s 118us/step - loss: 0.0488 - acc: 0.9903 - val_loss: 0.0597 - val_acc: 0.9544\n",
      "Epoch 75/85\n",
      "7200/7200 [==============================] - 1s 114us/step - loss: 0.0484 - acc: 0.9957 - val_loss: 0.0602 - val_acc: 0.9611\n",
      "Epoch 76/85\n",
      "7200/7200 [==============================] - 1s 122us/step - loss: 0.0485 - acc: 0.9939 - val_loss: 0.0598 - val_acc: 0.9539\n",
      "Epoch 77/85\n",
      "7200/7200 [==============================] - 1s 110us/step - loss: 0.0485 - acc: 0.9932 - val_loss: 0.0589 - val_acc: 0.9578\n",
      "Epoch 78/85\n",
      "7200/7200 [==============================] - 1s 109us/step - loss: 0.0490 - acc: 0.9919 - val_loss: 0.0628 - val_acc: 0.9478\n",
      "Epoch 79/85\n",
      "7200/7200 [==============================] - 1s 118us/step - loss: 0.0492 - acc: 0.9903 - val_loss: 0.0601 - val_acc: 0.9522\n",
      "Epoch 80/85\n",
      "7200/7200 [==============================] - 1s 116us/step - loss: 0.0490 - acc: 0.9914 - val_loss: 0.0608 - val_acc: 0.9533\n",
      "Epoch 81/85\n",
      "7200/7200 [==============================] - 1s 107us/step - loss: 0.0493 - acc: 0.9894 - val_loss: 0.0600 - val_acc: 0.9561\n",
      "Epoch 82/85\n",
      "7200/7200 [==============================] - 1s 127us/step - loss: 0.0488 - acc: 0.9911 - val_loss: 0.0595 - val_acc: 0.9578\n",
      "Epoch 83/85\n",
      "7200/7200 [==============================] - 1s 133us/step - loss: 0.0489 - acc: 0.9912 - val_loss: 0.0586 - val_acc: 0.9550\n",
      "Epoch 84/85\n",
      "7200/7200 [==============================] - 1s 145us/step - loss: 0.0489 - acc: 0.9915 - val_loss: 0.0589 - val_acc: 0.9606\n",
      "Epoch 85/85\n",
      "7200/7200 [==============================] - 1s 114us/step - loss: 0.0491 - acc: 0.9900 - val_loss: 0.0627 - val_acc: 0.9522\n"
     ]
    },
    {
     "data": {
      "text/plain": [
       "<keras.callbacks.History at 0x22413306b70>"
      ]
     },
     "execution_count": 74,
     "metadata": {},
     "output_type": "execute_result"
    }
   ],
   "source": [
    "from keras.utils import to_categorical\n",
    "model.fit(scaled_data[:],\n",
    "          to_categorical(train_labels[:,[1]].flatten()),\n",
    "          batch_size = 72,validation_split = 0.2,\n",
    "          epochs = 85,\n",
    "          shuffle = True,\n",
    "          verbose = 1,callbacks = [tensorboard]\n",
    "         )"
   ]
  },
  {
   "cell_type": "code",
   "execution_count": 65,
   "metadata": {
    "scrolled": false
   },
   "outputs": [
    {
     "name": "stdout",
     "output_type": "stream",
     "text": [
      "3000/3000 [==============================] - 0s 108us/step\n",
      "[10 13  6 ...  3 20  5]\n",
      "0.9306666666666666\n",
      "[[169   0   0   0   0   1  12   0   0   2   0   0   0   0   0   0   0   0\n",
      "    0   0]\n",
      " [  0 129   0  17   0   0   0   0   0   2   0   0   0   0   9   0   0   0\n",
      "    0   0]\n",
      " [  0   0 164   0   0   0   0   0   0   0   0   1   6   0   0   0   0   0\n",
      "    0   0]\n",
      " [  0   7   0 127   0   5   0   0   0   1   1   0   0   0   5   1   0   0\n",
      "    0   3]\n",
      " [  0   0   0   0 130   0   0   0   0   0   0   0   5   0   0   0   0   0\n",
      "    0   0]\n",
      " [  0   2   0   1   0 151   0   0   0   1   0   0   0   0   3   0   0   0\n",
      "    0   0]\n",
      " [  3   0   0   0   0   1 112   0   0   3   0   0   0   0   2   0   0   2\n",
      "    0   0]\n",
      " [  0   0   0   0   0   0   0 123   0   0   0   0   0  19   0   0   0   0\n",
      "    0   0]\n",
      " [  0   0   2   0   3   0   0   0 144   0   0   0   1   0   0   0   2   0\n",
      "    1   0]\n",
      " [  0   1   0   0   0   3   6   0   0 138   0   0   0   0   2   0   0   0\n",
      "    0   0]\n",
      " [  0   0   0   0   0   0   0   0   0   0 146   0   0   0   1   2   0   0\n",
      "    0   2]\n",
      " [  0   0   0   0   1   0   0   0   0   0   0 163   0   0   0   0   0   0\n",
      "    0   0]\n",
      " [  0   0   5   0   4   0   0   1   0   0   0   0 130   0   0   0   4   0\n",
      "    1   0]\n",
      " [  0   0   0   0   0   0   0   0   0   0   0   0   0 157   0   0   0   0\n",
      "    0   0]\n",
      " [  0   5   0   3   0   2   0   0   0   4   0   0   0   0 148   0   0   0\n",
      "    0   0]\n",
      " [  0   0   0   4   0   0   0   0   0   0   0   0   0   0   0 128   0   0\n",
      "    0   0]\n",
      " [  0   0   0   0   0   0   0   0   0   0   0   0   1   0   0   0 123   0\n",
      "    6   1]\n",
      " [  0   0   0   0   5   0   0   0   0   0   0   0   0   0   0   0   0 146\n",
      "    0   0]\n",
      " [  0   0   1   0   0   0   0   1   2   0   0   0   0   0   0   0  10   0\n",
      "  121   0]\n",
      " [  0   0   0   0   0   1   0   0   0   1   0   0   0   1   0   0   0   3\n",
      "    0 143]]\n"
     ]
    }
   ],
   "source": [
    "import sklearn.metrics as metrics\n",
    "rounded_predictions = model.predict_classes(scaled_data[0:3000],verbose = 1)\n",
    "print(rounded_predictions)\n",
    "print(metrics.accuracy_score(train_labels[0:3000,[1]],rounded_predictions))\n",
    "print(metrics.confusion_matrix(train_labels[0:3000,[1]],rounded_predictions))"
   ]
  },
  {
   "cell_type": "code",
   "execution_count": 66,
   "metadata": {},
   "outputs": [
    {
     "name": "stdout",
     "output_type": "stream",
     "text": [
      "3000/3000 [==============================] - 0s 72us/step\n",
      "[ 6 20 14 ... 17 20  9]\n",
      "0.94\n",
      "[[125   0   0   0   0   0  10   0   0   3   0   0   0   0   0   0   0   0\n",
      "    0   1]\n",
      " [  0 130   0  11   0   0   0   0   0   0   0   0   0   0   5   2   0   0\n",
      "    0   1]\n",
      " [  0   0 128   0   0   0   0   0   0   0   0   0   2   0   0   0   0   0\n",
      "    0   0]\n",
      " [  0   5   0 136   0   3   0   0   0   1   1   0   0   0   9   0   0   0\n",
      "    0   1]\n",
      " [  0   0   2   0 136   0   0   1   0   0   0   0   7   0   0   0   0   0\n",
      "    0   0]\n",
      " [  0   0   0   1   0 140   0   0   0   3   0   0   0   0   0   0   0   0\n",
      "    0   0]\n",
      " [  4   0   0   0   0   1 154   0   0   2   0   0   0   0   0   0   0   1\n",
      "    0   0]\n",
      " [  0   0   0   0   0   0   0 134   0   0   0   0   0  17   0   0   0   0\n",
      "    0   0]\n",
      " [  0   0   0   0   7   0   0   0 136   0   0   0   2   0   0   0   2   0\n",
      "    4   0]\n",
      " [  0   0   0   0   0   2   4   0   0 140   0   0   0   0   1   0   0   0\n",
      "    0   0]\n",
      " [  0   0   0   0   0   1   0   0   0   0 155   0   0   0   0   1   0   0\n",
      "    0   0]\n",
      " [  1   0   0   0   1   0   0   0   0   0   0 154   0   0   0   0   0   0\n",
      "    0   0]\n",
      " [  0   0   5   0   3   0   0   0   1   0   0   0 130   0   0   0   2   1\n",
      "    1   0]\n",
      " [  0   0   0   0   0   0   0   0   0   0   0   0   0 148   0   0   0   0\n",
      "    0   0]\n",
      " [  0   6   0   2   0   5   0   0   0   1   0   0   0   0 124   0   0   0\n",
      "    0   1]\n",
      " [  0   0   0   1   0   0   0   0   0   1   0   0   0   0   0 163   0   0\n",
      "    0   0]\n",
      " [  0   0   0   0   0   0   0   0   0   0   0   0   3   0   0   0 157   0\n",
      "    1   0]\n",
      " [  0   0   0   0   2   0   0   0   0   0   0   1   2   0   0   0   0 146\n",
      "    0   1]\n",
      " [  0   1   0   0   2   0   0   0   3   0   0   0   2   0   0   0   8   0\n",
      "  147   0]\n",
      " [  0   2   0   0   0   1   0   0   0   0   0   0   0   0   0   0   0   0\n",
      "    1 137]]\n"
     ]
    }
   ],
   "source": [
    "import sklearn.metrics as metrics\n",
    "rounded_predictions = model.predict_classes(scaled_data[3000:6000],verbose = 1)\n",
    "print(rounded_predictions)\n",
    "print(metrics.accuracy_score(train_labels[3000:6000,[1]],rounded_predictions))\n",
    "print(metrics.confusion_matrix(train_labels[3000:6000,[1]],rounded_predictions))"
   ]
  },
  {
   "cell_type": "code",
   "execution_count": 70,
   "metadata": {},
   "outputs": [
    {
     "name": "stdout",
     "output_type": "stream",
     "text": [
      "5000/5000 [==============================] - 1s 164us/step\n"
     ]
    }
   ],
   "source": [
    "rounded_predictions = model.predict_classes(scaled_test,verbose = 1)"
   ]
  },
  {
   "cell_type": "markdown",
   "metadata": {},
   "source": [
    "### "
   ]
  },
  {
   "cell_type": "code",
   "execution_count": 71,
   "metadata": {},
   "outputs": [
    {
     "name": "stdout",
     "output_type": "stream",
     "text": [
      "[ 3  4  5 ... 11  5  1]\n",
      "/Users/ASDERTY/Documents/date IA/\n",
      "5000\n"
     ]
    }
   ],
   "source": [
    "print(rounded_predictions)\n",
    "print(dataPath)\n",
    "print(len(rounded_predictions))\n",
    "with open(dataPath + 'prezic.csv', mode='w', newline='') as sm: #creating a file for the test data \n",
    "    writer = csv.writer(sm, delimiter=',')\n",
    "    writer.writerow(['id', 'class'])\n",
    "    for i in range(5000):\n",
    "        writer.writerow([filesGood[i],rounded_predictions[i]])"
   ]
  },
  {
   "cell_type": "code",
   "execution_count": null,
   "metadata": {},
   "outputs": [],
   "source": []
  }
 ],
 "metadata": {
  "kernelspec": {
   "display_name": "Python 3",
   "language": "python",
   "name": "python3"
  },
  "language_info": {
   "codemirror_mode": {
    "name": "ipython",
    "version": 3
   },
   "file_extension": ".py",
   "mimetype": "text/x-python",
   "name": "python",
   "nbconvert_exporter": "python",
   "pygments_lexer": "ipython3",
   "version": "3.7.3"
  }
 },
 "nbformat": 4,
 "nbformat_minor": 2
}
